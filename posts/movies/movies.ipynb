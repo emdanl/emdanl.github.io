{
  "nbformat": 4,
  "nbformat_minor": 0,
  "metadata": {
    "colab": {
      "provenance": []
    },
    "kernelspec": {
      "name": "python3",
      "display_name": "Python 3"
    },
    "language_info": {
      "name": "python"
    }
  },
  "cells": [
    {
      "cell_type": "markdown",
      "source": [
        "---\n",
        "title: Holiday Movies\n",
        "author: Erin Mansfield\n",
        "date: 2025-4-09\n",
        "categories: [movies, python]\n",
        "image: \"movies_img.png\"\n",
        "toc: true\n",
        "---"
      ],
      "metadata": {
        "id": "_rA89Siu9_sa"
      }
    },
    {
      "cell_type": "code",
      "source": [
        "## Import DataFrames\n",
        "\n",
        "import pandas as pd\n",
        "\n",
        "holiday_movies = pd.read_csv(\"https://bcdanl.github.io/data/holiday_movies.csv\")\n",
        "holiday_movie_genres = pd.read_csv(\"https://bcdanl.github.io/data/holiday_movie_genres.csv\")"
      ],
      "metadata": {
        "id": "Tble2RQdgTxf"
      },
      "execution_count": 5,
      "outputs": []
    },
    {
      "cell_type": "code",
      "source": [
        "## Merging\n",
        "\n",
        "import pandas as pd\n",
        "\n",
        "holiday_movies = pd.read_csv(\"https://bcdanl.github.io/data/holiday_movies.csv\")\n",
        "holiday_movie_genres = pd.read_csv(\"https://bcdanl.github.io/data/holiday_movie_genres.csv\")\n",
        "\n",
        "movies_with_genres = pd.merge(holiday_movies, holiday_movie_genres, on = 'tconst')"
      ],
      "metadata": {
        "id": "jyOL8bFXgjxJ"
      },
      "execution_count": 1,
      "outputs": []
    },
    {
      "cell_type": "code",
      "source": [
        "## Count\n",
        "\n",
        "import pandas as pd\n",
        "\n",
        "holiday_movies = pd.read_csv(\"https://bcdanl.github.io/data/holiday_movies.csv\")\n",
        "holiday_movie_genres = pd.read_csv(\"https://bcdanl.github.io/data/holiday_movie_genres.csv\")\n",
        "\n",
        "genre_counts = movies_with_genres['genres'].value_counts()"
      ],
      "metadata": {
        "id": "AUBtk2YFhFVF"
      },
      "execution_count": 2,
      "outputs": []
    },
    {
      "cell_type": "code",
      "source": [
        "# Filter\n",
        "\n",
        "import pandas as pd\n",
        "\n",
        "holiday_movies = pd.read_csv(\"https://bcdanl.github.io/data/holiday_movies.csv\")\n",
        "holiday_movie_genres = pd.read_csv(\"https://bcdanl.github.io/data/holiday_movie_genres.csv\")\n",
        "\n",
        "christmas_movies = movies_with_genres[movies_with_genres['simple_title'].str.contains('christmas', case=False, na=False)]"
      ],
      "metadata": {
        "id": "9ZiYX72bhR9a"
      },
      "execution_count": 3,
      "outputs": []
    },
    {
      "cell_type": "code",
      "source": [
        "# Indexing\n",
        "\n",
        "import pandas as pd\n",
        "\n",
        "holiday_movies = pd.read_csv(\"https://bcdanl.github.io/data/holiday_movies.csv\")\n",
        "holiday_movie_genres = pd.read_csv(\"https://bcdanl.github.io/data/holiday_movie_genres.csv\")\n",
        "\n",
        "christmas_movies_sorted_indexed = christmas_movies_sorted.set_index('primary_title')"
      ],
      "metadata": {
        "colab": {
          "base_uri": "https://localhost:8080/",
          "height": 190
        },
        "id": "sQU5G9mGiCRI",
        "outputId": "96e79994-cf73-421f-bac5-bed9c71b7aca"
      },
      "execution_count": 4,
      "outputs": [
        {
          "output_type": "error",
          "ename": "NameError",
          "evalue": "name 'christmas_movies_sorted' is not defined",
          "traceback": [
            "\u001b[0;31m---------------------------------------------------------------------------\u001b[0m",
            "\u001b[0;31mNameError\u001b[0m                                 Traceback (most recent call last)",
            "\u001b[0;32m<ipython-input-4-0d9a0d6c0ed8>\u001b[0m in \u001b[0;36m<cell line: 0>\u001b[0;34m()\u001b[0m\n\u001b[1;32m      6\u001b[0m \u001b[0mholiday_movie_genres\u001b[0m \u001b[0;34m=\u001b[0m \u001b[0mpd\u001b[0m\u001b[0;34m.\u001b[0m\u001b[0mread_csv\u001b[0m\u001b[0;34m(\u001b[0m\u001b[0;34m\"https://bcdanl.github.io/data/holiday_movie_genres.csv\"\u001b[0m\u001b[0;34m)\u001b[0m\u001b[0;34m\u001b[0m\u001b[0;34m\u001b[0m\u001b[0m\n\u001b[1;32m      7\u001b[0m \u001b[0;34m\u001b[0m\u001b[0m\n\u001b[0;32m----> 8\u001b[0;31m \u001b[0mchristmas_movies_sorted_indexed\u001b[0m \u001b[0;34m=\u001b[0m \u001b[0mchristmas_movies_sorted\u001b[0m\u001b[0;34m.\u001b[0m\u001b[0mset_index\u001b[0m\u001b[0;34m(\u001b[0m\u001b[0;34m'primary_title'\u001b[0m\u001b[0;34m)\u001b[0m\u001b[0;34m\u001b[0m\u001b[0;34m\u001b[0m\u001b[0m\n\u001b[0m",
            "\u001b[0;31mNameError\u001b[0m: name 'christmas_movies_sorted' is not defined"
          ]
        }
      ]
    },
    {
      "cell_type": "code",
      "source": [
        "## Sorting\n",
        "\n",
        "import pandas as pd\n",
        "\n",
        "holiday_movies = pd.read_csv(\"https://bcdanl.github.io/data/holiday_movies.csv\")\n",
        "holiday_movie_genres = pd.read_csv(\"https://bcdanl.github.io/data/holiday_movie_genres.csv\")\n",
        "\n",
        "christmas_movies_sorted = christmas_movies.sort_values(by='year', ascending=False)"
      ],
      "metadata": {
        "id": "UvqqNyMEiWlV"
      },
      "execution_count": null,
      "outputs": []
    }
  ]
}