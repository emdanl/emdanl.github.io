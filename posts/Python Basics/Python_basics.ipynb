{
  "nbformat": 4,
  "nbformat_minor": 0,
  "metadata": {
    "colab": {
      "provenance": []
    },
    "kernelspec": {
      "name": "python3",
      "display_name": "Python 3"
    },
    "language_info": {
      "name": "python"
    }
  },
  "cells": [
    {
      "cell_type": "code",
      "source": [
        "---\n",
        "title: Python Basics\n",
        "author: Erin Mansfield\n",
        "date: 2025-2-17\n",
        "categories: [python, basics, programming]\n",
        "image: \"image.png\"\n",
        "toc: true\n",
        "---"
      ],
      "metadata": {
        "id": "4vGYk0NL32yR"
      },
      "execution_count": null,
      "outputs": []
    },
    {
      "cell_type": "markdown",
      "source": [
        "# Lecture 4\n"
      ],
      "metadata": {
        "id": "foR4m-f34IMk"
      }
    },
    {
      "cell_type": "code",
      "source": [
        "# Python Basics\n",
        "A value is literal such as a number or text\n",
        "There are different types of values\n",
        "** 352.3 is known as a float or double\n",
        "** 22 is an integer\n",
        "** \"Hello World!\" is a string\n",
        "\n",
        "A variable is a name that refers to a value\n",
        "Sometimes you will hear variables referred to as objects\n"
      ],
      "metadata": {
        "id": "5E86hCOf4BYq"
      },
      "execution_count": null,
      "outputs": []
    },
    {
      "cell_type": "code",
      "source": [
        "# Variable in data. frame\n",
        "Defintion: A data.frame is a table-like data structure used for storing data in a tabular format with rows and columns\n",
        "Structure: Consisits of\n",
        "** Variables\n",
        "** Observations\n",
        "** Values"
      ],
      "metadata": {
        "id": "np4IyaqO4j9b"
      },
      "execution_count": null,
      "outputs": []
    },
    {
      "cell_type": "code",
      "source": [
        "# Assignment (=)\n",
        "In Python, we used = to assign a value to a variable\n"
      ],
      "metadata": {
        "id": "8QEJnj_m5O9w"
      },
      "execution_count": null,
      "outputs": []
    },
    {
      "cell_type": "code",
      "source": [
        "# Assigment (=) Example\n",
        "# Here we assign the integer value 5 to the variable x.\n",
        "x = 5\n",
        "\n",
        "# Now we can use the variable x in the next line.\n",
        "y = x + 12\n",
        "y"
      ],
      "metadata": {
        "id": "kYWaOZAO5djn"
      },
      "execution_count": null,
      "outputs": []
    },
    {
      "cell_type": "code",
      "source": [
        "# Variables Are Names, Not Places\n",
        "The most basic built-in data types that we'll need to know about are:\n",
        "** integers 10\n",
        "** floats 1.23\n",
        "** strings \"like this\"\n",
        "** booleans \"True\"\n",
        "** nothing None"
      ],
      "metadata": {
        "id": "_RycWgGN5kuu"
      },
      "execution_count": null,
      "outputs": []
    },
    {
      "cell_type": "code",
      "source": [
        "# Varibales Are Names, Not Places Example\n",
        "list_example = [10, 1.23, \"like this\", True, None]\n",
        "print(list_example)\n",
        "type(list_example)"
      ],
      "metadata": {
        "id": "NM_s_99I523J"
      },
      "execution_count": null,
      "outputs": []
    },
    {
      "cell_type": "code",
      "source": [
        "# Operators\n",
        "All of the basic operators we see in mathematics are available to use:\n",
        "** + for addition\n",
        "** - for subtraction\n",
        "** * for multiplication\n",
        "** for powers\n",
        "** / for division\n",
        "** // for integer division"
      ],
      "metadata": {
        "id": "myNrE3X658NV"
      },
      "execution_count": null,
      "outputs": []
    },
    {
      "cell_type": "code",
      "source": [
        "# Casting Variables\n",
        "We need to explicity cast a value from one type to another\n",
        "** We can do this using built-in functions like str(), int(), and float()"
      ],
      "metadata": {
        "id": "Ga7Q2sBa6au_"
      },
      "execution_count": null,
      "outputs": []
    },
    {
      "cell_type": "code",
      "source": [
        "# Casting Variables Examples\n",
        "orig_number = 4.39898498\n",
        "type(orig_number)\n",
        "\n",
        "mod_number = int(orig_number)\n",
        "mod_number\n",
        "type(mod_number)\n"
      ],
      "metadata": {
        "id": "TPQWPzWU6ocV"
      },
      "execution_count": null,
      "outputs": []
    },
    {
      "cell_type": "code",
      "source": [
        "# Dictionaries\n",
        "Another built-in Python type that is enormously useful is the dictionary\n",
        "We can obtain keys, values, or key-value paris from dictionaries\n"
      ],
      "metadata": {
        "id": "-_lcMIXA6vRU"
      },
      "execution_count": null,
      "outputs": []
    },
    {
      "cell_type": "code",
      "source": [
        "# Dictionaries Examples\n",
        "cities_to_temps = {\"Paris\": 28, \"London\": 22, \"New York\": 36, \"Seoul\": 29}\n",
        "\n",
        "cities_to_temps.keys()\n",
        "cities_to_temps.values()\n",
        "cities_to_temps.items()"
      ],
      "metadata": {
        "id": "3DnE97y368nw"
      },
      "execution_count": null,
      "outputs": []
    },
    {
      "cell_type": "markdown",
      "source": [],
      "metadata": {
        "id": "i5i9spLA7B4U"
      }
    },
    {
      "cell_type": "markdown",
      "source": [
        "# Lecture 5"
      ],
      "metadata": {
        "id": "M23RJ5W87B5p"
      }
    },
    {
      "cell_type": "code",
      "source": [
        "# Booleans, Conditions, and if Statements\n",
        "Boolean data have either True or False value\n",
        "The == is an operator that compares the objects on eitehr side and returns True if they have the same values"
      ],
      "metadata": {
        "id": "7U68RQ-L7JVp"
      },
      "execution_count": null,
      "outputs": []
    },
    {
      "cell_type": "code",
      "source": [
        "# Booleans, Conditions, and if Statements Examples\n",
        "10 == 20\n",
        "10 == '10'\n",
        "\n",
        "boolean_condition1 = 10 == 20\n",
        "print(boolean_condition1)\n",
        "\n",
        "boolean_condition2 = 10 == '10'\n",
        "print(boolean_condition2)\n",
        "\n",
        "name = \"Geneseo\"\n",
        "score = 99\n",
        "\n",
        "if name == \"Geneseo\" and score > 90:\n",
        "    print(\"Geneseo, you achieved a high score.\")\n",
        "\n",
        "if name == \"Geneseo\" or score > 90:\n",
        "    print(\"You could be called Geneseo or have a high score\")\n",
        "\n",
        "if name != \"Geneseo\" and score > 90:\n",
        "    print(\"You are not called Geneseo and you have a high score\")\n",
        "\n",
        "    name_list = [\"Lovelace\", \"Smith\", \"Hopper\", \"Babbage\"]\n",
        "\n",
        "print(\"Lovelace\" in name_list)\n",
        "\n",
        "print(\"Bob\" in name_list)"
      ],
      "metadata": {
        "id": "f983aVS_7Qmp"
      },
      "execution_count": null,
      "outputs": []
    },
    {
      "cell_type": "code",
      "source": [
        "# Slicing Methods\n",
        "With slicing methods, we can get subset of the data object"
      ],
      "metadata": {
        "id": "xG2yx7tJ8EnW"
      },
      "execution_count": null,
      "outputs": []
    },
    {
      "cell_type": "code",
      "source": [
        "# Slicing Methods Strings\n",
        "From strings, we can access the individual characters via slicing and indexing\n"
      ],
      "metadata": {
        "id": "prCF0vz-8V0q"
      },
      "execution_count": null,
      "outputs": []
    },
    {
      "cell_type": "code",
      "source": [
        "# Slicing Methods Strings Examples\n",
        "string = \"cheesecake\"\n",
        "print( string[-4:] )\n",
        "string = \"cheesecake\"\n",
        "print(\"String has length:\")\n",
        "print( len(string) )\n",
        "list_of_numbers = range(1, 20)\n",
        "print(\"List of numbers has length:\")\n",
        "print( len(list_of_numbers) )"
      ],
      "metadata": {
        "id": "kS0rVP_l8jzd"
      },
      "execution_count": null,
      "outputs": []
    },
    {
      "cell_type": "code",
      "source": [
        "# Slicing Methods Lists\n",
        "list_example = ['one', 'two', 'three']\n",
        "list_example[ 0 : 1 ]\n",
        "list_example[ 1 : 3 ]"
      ],
      "metadata": {
        "id": "dPcvr03d81Cz"
      },
      "execution_count": null,
      "outputs": []
    },
    {
      "cell_type": "code",
      "source": [
        "# Functions, Arguments, Parameters\n",
        "A function can take any number and type of input parameters and return any number and type of output results\n",
        "int(\"20\")\n",
        "float(\"14.3\")\n",
        "str(5)\n",
        "int(\"xyz\")\n",
        "\n",
        "Much as a cooking receipe can accept ingredients, a function invocation can accpet inputs called arguments\n",
        "A parameter is a name given to an expected function argument"
      ],
      "metadata": {
        "id": "LOQRxh6j9ZZp"
      },
      "execution_count": null,
      "outputs": []
    },
    {
      "cell_type": "code",
      "source": [
        "# Loop with while and for\n",
        "Repeat with while\n",
        "count = 1\n",
        "while count <= 5:\n",
        "  print(count)\n",
        "  count += 1\n",
        "Asking the user for input\n",
        "stuff = input()\n",
        "Type something and press retun\n",
        "print(stuff)\n",
        "Cancel with break\n",
        "while True:\n",
        "    value = input(\"Integer, please [q to quit]: \")\n",
        "    if value == 'q': # quit\n",
        "        break\n",
        "    number = int(value)\n",
        "    if number % 2 == 0: # an even number\n",
        "        continue\n",
        "    print(number, \"squared is\", number*number)\n",
        "\n",
        "Repeat with while\n",
        "numbers = [1, 3, 5]\n",
        "position = 0\n",
        "\n",
        "while position < len(numbers):\n",
        "    number = numbers[position]\n",
        "    if number > 4:  # Condition changed to checking if the number is greater than 4\n",
        "        print('Found a number greater than 4:', number)\n",
        "        break\n",
        "    position += 1\n",
        "else:  # break not called\n",
        "    print('No number greater than 4 found')\n",
        ""
      ],
      "metadata": {
        "id": "mURGoa5bpT7K"
      },
      "execution_count": null,
      "outputs": []
    },
    {
      "cell_type": "code",
      "source": [
        "# list and dictionary comprehensions\n",
        "List comprehension is a concise way to modify lists\n",
        "Dictionary comprehension is a concise way to create or modify dictionaries"
      ],
      "metadata": {
        "id": "4AOA-fvOqBXt"
      },
      "execution_count": null,
      "outputs": []
    },
    {
      "cell_type": "code",
      "source": [
        "# Modifying Lists and Dictionaries\n",
        "append(): adds an item to the end of the list\n",
        "remove(): deletes the first occurrence of value in the list\n",
        "list comprehnesion: Removes items based on a condition\n",
        "del statement: deletes an item by index or a slice of items\n",
        "update(): adds new key value pairs or updates existing ones\n",
        "dictionary comprehension: removes items based on a condition\n",
        "del statement: deletes an item by key\n",
        "\n",
        "\n"
      ],
      "metadata": {
        "id": "oOySQJElqOPo"
      },
      "execution_count": null,
      "outputs": []
    },
    {
      "cell_type": "code",
      "source": [
        "# Handle Errors with try and except\n",
        "Python uses exceptions: code that is executed when an associated error occurs\n",
        "Errors\n",
        "short_list = [1, 2, 3]\n",
        "position = 5\n",
        "short_list[position]\n",
        "Handle errors with try and except\n",
        "short_list = [1, 2, 3]\n",
        "position = 5\n",
        "\n",
        "try:\n",
        "    short_list[position]\n",
        "except:\n",
        "    print('Need a position between 0 and', len(short_list)-1, ' but got',\n",
        "    position)"
      ],
      "metadata": {
        "id": "fSSi-C3jqspe"
      },
      "execution_count": null,
      "outputs": []
    },
    {
      "cell_type": "code",
      "source": [
        "# Importing and Installing Modules, Packages, and Libraries\n",
        "Core libraries that enable Python to store adn analyze data efficiently are: pandas, numpy, matplotlib and seaborn\n",
        "import statement\n",
        "as or from"
      ],
      "metadata": {
        "id": "MYxRfUxyrBtN"
      },
      "execution_count": null,
      "outputs": []
    },
    {
      "cell_type": "markdown",
      "source": [
        "# Classwork 4"
      ],
      "metadata": {
        "id": "oaDCDpMfrT48"
      }
    },
    {
      "cell_type": "code",
      "source": [
        "# Question 1\n",
        "val = 2**5 / (7 * (4 -2**3))\n",
        "val\n"
      ],
      "metadata": {
        "id": "MY4jXe6arWRA"
      },
      "execution_count": null,
      "outputs": []
    },
    {
      "cell_type": "code",
      "source": [
        "# Question 2: For each expression what is the value of the expression?\n",
        "\n",
        "boolean_condition1(20 == '20')\n",
        "print(boolean_condition1)\n",
        "#false\n",
        "\n",
        "x= 4.0\n",
        "y= .5\n",
        "x < y or 3*y < x\n",
        "print (x<y)\n",
        "#false\n",
        "print(3*y<x)\n",
        "#false"
      ],
      "metadata": {
        "id": "PNQ5IaUbrjAZ"
      },
      "execution_count": null,
      "outputs": []
    },
    {
      "cell_type": "code",
      "source": [
        "# Question 3: Write a code that uses slicing and the print function to print out the following message: the total trip cost is 12:80\n",
        "fare = \"$10.00\"\n",
        "tip = \"2.00$\"\n",
        "tax = \"$ 0.80\"\n",
        "\n",
        "fare = float(fare[1:])\n",
        "tip = float(tip[-1])\n",
        "tax = float(tax[2:])\n",
        "total= fare + tip + tax\n",
        "print(f\"the total trip cost is: ${total}\")"
      ],
      "metadata": {
        "id": "8WBZs43PrrtJ"
      },
      "execution_count": null,
      "outputs": []
    },
    {
      "cell_type": "code",
      "source": [
        "# Question 4: Write a code that uses print and max function ot print out the largest value in the list, and print the largest value in the list is: 1000\n",
        "list_variable = [100, 144, 169, 1000, 8]\n",
        "print(f\"The largest value in the list is: {max(list_variable)}\")"
      ],
      "metadata": {
        "id": "0wEcHjQ6r3qx"
      },
      "execution_count": null,
      "outputs": []
    },
    {
      "cell_type": "code",
      "source": [
        "# Question 5: Use a whole loop to print a list and for loop to print the list [3, 2, 1, 0] one at a time\n",
        "vals = [3, 2, 1, 0]\n",
        "index=0\n",
        "while index < len(vals):\n",
        "  print(vals[index])\n",
        "  index += 1\n",
        "for n in vals:\n",
        "  print(n)"
      ],
      "metadata": {
        "id": "TrVurqF4sGCD"
      },
      "execution_count": null,
      "outputs": []
    },
    {
      "cell_type": "code",
      "source": [
        "# Question 6:\n",
        "#While loop\n",
        "guess_me = 7\n",
        "number = 1\n",
        "\n",
        "while number < guess_me:\n",
        "  print(\"too low!\")\n",
        "  number += 1\n",
        "while number == guess_me:\n",
        "  print(\"found it\")\n",
        "  number += 1\n",
        "while number > guess me:\n",
        "  print(\"oops!\")\n",
        "  break\n",
        "\n",
        "# For loop\n",
        "guess_me = 7\n",
        "number = 1\n",
        "\n",
        "for k in range(1,10):\n",
        "  if number < guess me:\n",
        "    print(\"too low\")\n",
        "  elif number == guess me:\n",
        "    print(\"found it\")\n",
        "  else:\n",
        "    print(\"oops\")\n",
        "    break\n",
        "\n",
        "  number += 1"
      ],
      "metadata": {
        "id": "chOh0IMEsR0u"
      },
      "execution_count": null,
      "outputs": []
    },
    {
      "cell_type": "code",
      "source": [
        "# Question 7:\n",
        "value = \"320\"\n",
        "print(type(value))\n",
        "\n",
        "mod_number = float(value)\n",
        "print(type(mod_number))\n",
        "\n",
        "if type(mod_number) == float:\n",
        "  print(f\"You entered: {value}\")\n",
        "else:\n",
        "  print(\"that's not a valid number\")\n",
        "#<class 'str'>\n",
        "#class 'float'>\n",
        "#You entered: 320"
      ],
      "metadata": {
        "id": "UuDYmFogsWTu"
      },
      "execution_count": null,
      "outputs": []
    },
    {
      "cell_type": "code",
      "source": [
        "# Question 8:\n",
        "import pandas as pd\n",
        "%pip install itables\n",
        "from itables import init_notebook_mode, show"
      ],
      "metadata": {
        "id": "brCkEI0xsaS6"
      },
      "execution_count": null,
      "outputs": []
    }
  ]
}