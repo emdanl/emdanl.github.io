{
  "nbformat": 4,
  "nbformat_minor": 0,
  "metadata": {
    "colab": {
      "provenance": []
    },
    "kernelspec": {
      "name": "python3",
      "display_name": "Python 3"
    },
    "language_info": {
      "name": "python"
    }
  },
  "cells": [
    {
      "cell_type": "markdown",
      "source": [
        "# Data Analysis"
      ],
      "metadata": {
        "id": "Y-hCa1vr4Fff"
      }
    },
    {
      "cell_type": "markdown",
      "source": [
        "# *Unifying ESG Metrics with Financial Analysis*"
      ],
      "metadata": {
        "id": "sASY-WD96XjZ"
      }
    },
    {
      "cell_type": "markdown",
      "source": [
        "**Backround**\n"
      ],
      "metadata": {
        "id": "3yo9N0ib7VqV"
      }
    },
    {
      "cell_type": "code",
      "source": [
        "#The sections of Environmental, Social and Governence, also known as ESG data is used more and more by investors to estimate corporate responsibility and risk of investment.\n",
        "#Our project uses Yahoo finance to find ESG score for Apple and evaluate their long term financial risk."
      ],
      "metadata": {
        "id": "WRGScuVV8z3C"
      },
      "execution_count": null,
      "outputs": []
    },
    {
      "cell_type": "markdown",
      "source": [
        "**Statement of Problem**"
      ],
      "metadata": {
        "id": "QYZ_VrbN7dOK"
      }
    },
    {
      "cell_type": "code",
      "source": [
        "#Does the ESGs performance have a measureable relationship with financial performance, or more specifically, how do these changes relate\n",
        "#to profitability and/or customer engagement?"
      ],
      "metadata": {
        "id": "RiyzI-Ma-M7i"
      },
      "execution_count": null,
      "outputs": []
    },
    {
      "cell_type": "markdown",
      "source": [
        "****"
      ],
      "metadata": {
        "id": "mxlYffAy8gKr"
      }
    },
    {
      "cell_type": "markdown",
      "source": [
        "**Data Collection**"
      ],
      "metadata": {
        "id": "VkJDnvzE--O2"
      }
    },
    {
      "cell_type": "markdown",
      "source": [
        "*Part 1*"
      ],
      "metadata": {
        "id": "zgkWVSNc_mYq"
      }
    },
    {
      "cell_type": "code",
      "source": [
        "# Import Setup\n",
        "# Import Libraries\n",
        "## Here is an example of the libraries and setup\n",
        "\n",
        "### import time\n",
        "### import random\n",
        "### import pandas as pd\n",
        "### from selenium import webdriver\n",
        "### from selenium.webdriver.common.by import By\n",
        "### from selenium.webdriver.chrome.options import Options\n",
        "### from selenium.webdriver.support.ui import WebDriverWait\n",
        "### from selenium.webdriver.support import expected_conditions as EC\n",
        "### import os"
      ],
      "metadata": {
        "id": "0ZJ4wBrE-9wG"
      },
      "execution_count": null,
      "outputs": []
    },
    {
      "cell_type": "markdown",
      "source": [
        "*Part 2*"
      ],
      "metadata": {
        "id": "IYsGxcZ-AbB9"
      }
    },
    {
      "cell_type": "code",
      "source": [
        "# Working Directory\n",
        "## A workign directory is where the Python code will look for files or save files\n",
        "### wd_path = Your working directory\n",
        "### os.chdir(wd_path)"
      ],
      "metadata": {
        "id": "cVp3pbg6AhW5"
      },
      "execution_count": null,
      "outputs": []
    },
    {
      "cell_type": "markdown",
      "source": [
        "*Part 3*"
      ],
      "metadata": {
        "id": "YAt48OI4A2Bb"
      }
    },
    {
      "cell_type": "code",
      "source": [
        "# Webdriver\n",
        "## options = Options()\n",
        "## options.add_argument()\n",
        "## options.add_argument()\n",
        "## options.page_load_strategy()\n",
        "## driver = webdriver.Chrome(options=options)"
      ],
      "metadata": {
        "id": "3NIwdjvyA1vL"
      },
      "execution_count": null,
      "outputs": []
    },
    {
      "cell_type": "markdown",
      "source": [
        "* Part 4*"
      ],
      "metadata": {
        "id": "9KLXpAtGBSh4"
      }
    },
    {
      "cell_type": "code",
      "source": [
        "# load both datasets\n",
        "\n",
        "## df_2024 = pd.read_csv(\"link\")\n",
        "## df_2025 = pd.read_csv(\"link\")"
      ],
      "metadata": {
        "id": "5DGthPbYAsay"
      },
      "execution_count": null,
      "outputs": []
    },
    {
      "cell_type": "markdown",
      "source": [
        "*Part 5*"
      ],
      "metadata": {
        "id": "m_KReyqiBqDG"
      }
    },
    {
      "cell_type": "code",
      "source": [
        "# esg_data = []\n",
        "# for symbol in list()\n",
        "  #url\n",
        "  #driver.get()\n",
        "\n",
        "  #time.sleep(random.uniform(5,10))\n",
        "\n",
        "  #try:\n",
        "\n",
        "    #WebDriverWait().until(\n",
        "        #EC.presence_of_element_located(())\n",
        "\n",
        "\n",
        "  #esg_data.append()\n",
        "  # expect Exception as e\n",
        "    #print()\n",
        "    #continue\n",
        "\n",
        "  #Convert to Data Frame\n",
        "    ## df_esg = pd.DataFrame(esg_data)\n",
        "    ## df_esg.to_csv(\"esg_scraped_data.csv, index= False\")"
      ],
      "metadata": {
        "id": "y9oy4Uy0CAE-"
      },
      "execution_count": null,
      "outputs": []
    },
    {
      "cell_type": "markdown",
      "source": [
        "*Part 6*"
      ],
      "metadata": {
        "id": "DpqJ7USPC0wV"
      }
    },
    {
      "cell_type": "code",
      "source": [
        "# Scrape Historical Stock Prices\n",
        "\n",
        "## Use linkes like the Yahoo finance links\n",
        "\n",
        "### https://finance.yahoo.com/quote/MSFT/history?p=MSFT&period1=1704067200&period2=1743446400"
      ],
      "metadata": {
        "id": "6v_xblJRC1kJ"
      },
      "execution_count": null,
      "outputs": []
    },
    {
      "cell_type": "markdown",
      "source": [
        "**Descriptive Statstics**"
      ],
      "metadata": {
        "id": "Nn1c53aiCzNp"
      }
    },
    {
      "cell_type": "code",
      "source": [
        "# We started by generating the descriptive statistics for both ESG and the financial data. This meant finding mean, median, spread and deviation as well as range and\n",
        "#the distribution shape. The summary revealed that revenue and profit have consistent growth over this period, but profit had a bit higher variance. Number of employees\n",
        "#had a downward trend, which could show potential operational efficiency improvement areas. ESG scores were more stable but showed some improvement in Governance. We ended\n",
        "#up using a correlation heat map to better understand these relationships between the variables. We interpreted that profit had a positive correlation and strong alignment.\n",
        "#Number of employees showed strong negative correlation with profit and revenue which showed leaner staffing may mean higher financial performance. Customer count was positively\n",
        "#correlated with revenue as well.\n"
      ],
      "metadata": {
        "id": "myp4kl00DQOm"
      },
      "execution_count": null,
      "outputs": []
    },
    {
      "cell_type": "markdown",
      "source": [
        "**Exploratory Data Analysis**"
      ],
      "metadata": {
        "id": "gbJcxL7REGZF"
      }
    },
    {
      "cell_type": "code",
      "source": [
        "#Some of the key questions we explored was the trend in ESG from 2024 to 2025, whether or not the ESG risk correlates with higher profitability, and which of the individual ESG scores were most predictive. We found that ESG scores generally declined, which showed improvement and that lower social and governance scores were associated with increased returns."
      ],
      "metadata": {
        "id": "ZAMBkJDFEY34"
      },
      "execution_count": 22,
      "outputs": []
    },
    {
      "cell_type": "markdown",
      "source": [
        "**Significance of the Project**"
      ],
      "metadata": {
        "id": "RCWjU_uBEZbA"
      }
    },
    {
      "cell_type": "code",
      "source": [
        "# The significance of this project is to take a look into how ESG aspects which include Environmental, Social, and Governance, can be used with financial analysis to take a look into companies. The combination of the ESG aspects and financial analysis can provide insight on the companies performance, and their societal impact.\n",
        "# When looking at ESG elements, investors can make better decisions on which companies to invest in. The companies that are better to invest in often have higher ESG scores.\n",
        "# Companies can also use their ESG elements with fiancnial aspects to compare their performance aganist their compeition. They can make sure they are inline with investor expections, their social responsiblity to the enviornment and people\n"
      ],
      "metadata": {
        "id": "JKFgye0gEkwB"
      },
      "execution_count": 21,
      "outputs": []
    },
    {
      "cell_type": "markdown",
      "source": [
        "**References**"
      ],
      "metadata": {
        "id": "xySJSFOHHrZh"
      }
    },
    {
      "cell_type": "code",
      "source": [
        "# https://www.thecorporategovernanceinstitute.com/insights/guides/simple-guide-esg/#:~:text=What%20is%20the%20ESG%20of,company's%20sustainability%20and%20ethical%20impact.\n",
        "# https://www.google.com/aclk?sa=L&ai=DChcSEwiT-6bavamNAxWEX0cBHXKxBWwYABAAGgJxdQ&co=1&gclid=Cj0KCQjwxJvBBhDuARIsAGUgNfgSAIhSk5ul9GdYV2_tlUo5Hq27ehXsLJ3ULWZrR6X3d0tVCDQgmo4aAh5fEALw_wcB&cce=1&sig=AOD64_3XMThYbPo7ZtODrvC1DSHxKMVOqg&q&adurl&ved=2ahUKEwjY6aDavamNAxX0EFkFHcZYFIkQ0Qx6BAgLEAE\n",
        "# https://chatgpt.com/?utm_source=google&utm_medium=paidsearch_brand&utm_campaign=DEPT_SEM_Google_Brand_Acquisition_NAMER_US_Consumer_CPA_BAU_Mix&utm_term=chatgpt&gad_source=1&gad_campaignid=21714513245&gbraid=0AAAAA-IW-UURj3fe5nhr9GoeDoWZRUv3L&gclid=Cj0KCQjwxJvBBhDuARIsAGUgNfjw-XLZHmyi9x8UrRRyQgB3wmWjUPEuzPVraRzO5gitVer6YDXtb_waAiUnEALw_wcB"
      ],
      "metadata": {
        "id": "3NUzDOKFHyYp"
      },
      "execution_count": null,
      "outputs": []
    }
  ]
}